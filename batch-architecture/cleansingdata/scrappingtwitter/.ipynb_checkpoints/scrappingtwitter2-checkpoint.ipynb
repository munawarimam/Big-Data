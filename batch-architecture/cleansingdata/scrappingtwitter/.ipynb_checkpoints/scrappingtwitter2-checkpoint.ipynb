{
 "cells": [
  {
   "cell_type": "code",
   "execution_count": 1,
   "metadata": {},
   "outputs": [],
   "source": [
    "import tweepy\n",
    "import csv\n",
    "import json\n",
    "import re"
   ]
  },
  {
   "cell_type": "code",
   "execution_count": null,
   "metadata": {},
   "outputs": [],
   "source": [
    "def search_hashtags(consumer_key, consumer_secret, access_token, access_token_secret, hashtag_phrase):\n",
    "    # buat autentikasi untuk akses twitter\n",
    "    auth = tweepy.OAuthHandler(consumer_key, consumer_secret)\n",
    "    auth.set_access_token(access_token, access_token_secret)\n",
    "    \n",
    "    # inisialisasi API\n",
    "    api = tweepy.API(auth)\n",
    "    \n",
    "    fname = ''.join(re.findall(r\"#(\\w+)\", hashtag_phrase)) #mencocokkan kata menggunakan regex, kata yang dicocokkan yaitu object hashtag                                                      \n",
    "                                                           #\\w artinya membaca semua huruf ataupun karakter\n",
    "    with open(fname, 'w', encoding='utf8') as file:  #'w' write data dan akan overwrite jika di running untuk selanjutnya, encoding membaca sama huruf huruf aneh\n",
    "        w = csv.writer(file) \n",
    "        w.writerow(['date', 'tweet', 'username', 'all_hashtags', 'followers', 'languange'])\n",
    "        \n",
    "        for tweet in tweepy.Cursor(api.search, q=hashtag_phrase+' -filter:retweets', \\\n",
    "                                   tweet_mode='extended').items(1000): #extended menambah element pada iterable\n",
    "            \n",
    "            w.writerow([tweet.created_at, tweet.full_text.replace('\\n',' '), tweet.user.screen_name.encode('utf-8'), [e['text'] for e in tweet._json['entities']['hashtags']], tweet.user.followers_count, tweet.lang])"
   ]
  },
  {
   "cell_type": "code",
   "execution_count": null,
   "metadata": {},
   "outputs": [],
   "source": [
    "access_token = ''     #your access token\n",
    "access_token_secret = '' #your access token secret\n",
    "consumer_key = ''         #your consumer key \n",
    "consumer_secret = ''      #your consumer key secret"
   ]
  },
  {
   "cell_type": "code",
   "execution_count": null,
   "metadata": {},
   "outputs": [],
   "source": [
    "hashtag_phrase = input('Hashtag Phrase ')\n",
    "\n",
    "if __name__ == '__main__':\n",
    "    search_hashtags(consumer_key, consumer_secret, access_token, access_token_secret, hashtag_phrase)"
   ]
  },
  {
   "cell_type": "code",
   "execution_count": null,
   "metadata": {},
   "outputs": [],
   "source": []
  }
 ],
 "metadata": {
  "kernelspec": {
   "display_name": "Python 3",
   "language": "python",
   "name": "python3"
  },
  "language_info": {
   "codemirror_mode": {
    "name": "ipython",
    "version": 3
   },
   "file_extension": ".py",
   "mimetype": "text/x-python",
   "name": "python",
   "nbconvert_exporter": "python",
   "pygments_lexer": "ipython3",
   "version": "3.7.7"
  }
 },
 "nbformat": 4,
 "nbformat_minor": 4
}
