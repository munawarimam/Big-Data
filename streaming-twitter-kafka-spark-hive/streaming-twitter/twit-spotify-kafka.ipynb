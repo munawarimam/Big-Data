{
 "cells": [
  {
   "cell_type": "code",
   "execution_count": 1,
   "metadata": {},
   "outputs": [],
   "source": [
    "import json\n",
    "import tweepy\n",
    "from tweepy import OAuthHandler, Stream\n",
    "from tweepy.streaming import StreamListener\n",
    "from kafka import KafkaProducer, KafkaConsumer\n",
    "from datetime import datetime\n",
    "import time"
   ]
  },
  {
   "cell_type": "code",
   "execution_count": 2,
   "metadata": {},
   "outputs": [],
   "source": [
    "topic = 'spotify'\n",
    "word_filter = ['spotify com track']\n",
    "# language_filter = ['en']\n",
    "\n",
    "access_token = ''       #your access token\n",  
    "access_secret = ''      #your access token secret\n",
    "consumer_key = ''       #your consumer key \n",
    "consumer_secret = ''    #your consumer key secret",    
    "\n",
    "auth = tweepy.OAuthHandler(consumer_key, consumer_secret)\n",
    "auth.set_access_token(access_token, access_secret)"
   ]
  },
  {
   "cell_type": "code",
   "execution_count": 5,
   "metadata": {},
   "outputs": [],
   "source": [
    "class KafkaPushListener(StreamListener):\n",
    "    def __init__(self, time_limit = 3600):\n",
    "        print(\"Publish data to topic: \"+topic)\n",
    "        self.producer = KafkaProducer(bootstrap_servers='localhost:9092')\n",
    "        self.start_time = time.time()\n",
    "        self.limit = time_limit\n",
    "        \n",
    "    def normalize_timestamp(self, time):\n",
    "        mytime = datetime.strptime(time, \"%a %b %d %H:%M:%S +0000 %Y\")\n",
    "        return(mytime.strftime(\"%Y-%m-%d %H:%M:%S\"))\n",
    "    \n",
    "    def on_data(self, data):\n",
    "        json_object = json.loads(data)\n",
    "        if (time.time() - self.start_time) < self.limit:\n",
    "            if len(json_object['entities']['urls']) > 0:\n",
    "                record = ''\n",
    "                record += str(self.normalize_timestamp(str(json_object['created_at'])))\n",
    "                record += '|'\n",
    "                record += str(json_object['user']['screen_name'].encode('utf-8'))\n",
    "                record += '|'\n",
    "                record += str(json_object['entities']['urls'][0]['expanded_url'])\n",
    "                self.producer.send(topic, str.encode(record))\n",
    "                print(record)\n",
    "            return True\n",
    "        else:\n",
    "            self.producer.close()\n",
    "            return False"
   ]
  }
   ],
   "source": [
    "if __name__ == '__main__':\n",
    "    twitter_stream = Stream(auth, KafkaPushListener())\n",
    "    twitter_stream.filter(track=word_filter)"
   ]
  },
  {
   "cell_type": "code",
   "execution_count": null,
   "metadata": {},
   "outputs": [],
   "source": []
  }
 ],
 "metadata": {
  "kernelspec": {
   "display_name": "Python 3",
   "language": "python",
   "name": "python3"
  },
  "language_info": {
   "codemirror_mode": {
    "name": "ipython",
    "version": 3
   },
   "file_extension": ".py",
   "mimetype": "text/x-python",
   "name": "python",
   "nbconvert_exporter": "python",
   "pygments_lexer": "ipython3",
   "version": "3.7.7"
  }
 },
 "nbformat": 4,
 "nbformat_minor": 4
}
